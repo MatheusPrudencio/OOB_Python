{
 "cells": [
  {
   "cell_type": "markdown",
   "metadata": {},
   "source": [
    "## Desáfio de Código Datenworks"
   ]
  },
  {
   "cell_type": "markdown",
   "metadata": {},
   "source": [
    "### Carregando os dados e entendo seus desáfios "
   ]
  },
  {
   "cell_type": "markdown",
   "metadata": {},
   "source": [
    "Primeiramente irei carregar os arquivos .csv e os transformarei em um Data Frame do Pandas.\n",
    "\n",
    "Irei exibir esses dados e assim procurar por insight de como resolver o problema proposto"
   ]
  },
  {
   "cell_type": "code",
   "execution_count": 1,
   "metadata": {},
   "outputs": [],
   "source": [
    "import pandas as pd"
   ]
  },
  {
   "cell_type": "code",
   "execution_count": 2,
   "metadata": {},
   "outputs": [],
   "source": [
    "df_1= pd.read_csv('https://raw.githubusercontent.com/Datenworks/developer-code-challenge/master/summoner_challenge/files/dataset_1.csv')"
   ]
  },
  {
   "cell_type": "code",
   "execution_count": 3,
   "metadata": {},
   "outputs": [
    {
     "data": {
      "text/html": [
       "<div>\n",
       "<style scoped>\n",
       "    .dataframe tbody tr th:only-of-type {\n",
       "        vertical-align: middle;\n",
       "    }\n",
       "\n",
       "    .dataframe tbody tr th {\n",
       "        vertical-align: top;\n",
       "    }\n",
       "\n",
       "    .dataframe thead th {\n",
       "        text-align: right;\n",
       "    }\n",
       "</style>\n",
       "<table border=\"1\" class=\"dataframe\">\n",
       "  <thead>\n",
       "    <tr style=\"text-align: right;\">\n",
       "      <th></th>\n",
       "      <th>NAME</th>\n",
       "      <th>ATTACK_SPEED</th>\n",
       "      <th>ARMOR</th>\n",
       "    </tr>\n",
       "  </thead>\n",
       "  <tbody>\n",
       "    <tr>\n",
       "      <th>0</th>\n",
       "      <td>Draven</td>\n",
       "      <td>0.679</td>\n",
       "      <td>29</td>\n",
       "    </tr>\n",
       "    <tr>\n",
       "      <th>1</th>\n",
       "      <td>Ezreal</td>\n",
       "      <td>0.625</td>\n",
       "      <td>22</td>\n",
       "    </tr>\n",
       "    <tr>\n",
       "      <th>2</th>\n",
       "      <td>Caitlyn</td>\n",
       "      <td>0.568</td>\n",
       "      <td>28</td>\n",
       "    </tr>\n",
       "    <tr>\n",
       "      <th>3</th>\n",
       "      <td>Varus</td>\n",
       "      <td>0.658</td>\n",
       "      <td>27</td>\n",
       "    </tr>\n",
       "    <tr>\n",
       "      <th>4</th>\n",
       "      <td>Kai'Sa</td>\n",
       "      <td>0.644</td>\n",
       "      <td>28</td>\n",
       "    </tr>\n",
       "    <tr>\n",
       "      <th>5</th>\n",
       "      <td>Kog'Maw</td>\n",
       "      <td>0.665</td>\n",
       "      <td>24</td>\n",
       "    </tr>\n",
       "    <tr>\n",
       "      <th>6</th>\n",
       "      <td>Jinx</td>\n",
       "      <td>0.625</td>\n",
       "      <td>28</td>\n",
       "    </tr>\n",
       "    <tr>\n",
       "      <th>7</th>\n",
       "      <td>Quinn</td>\n",
       "      <td>0.668</td>\n",
       "      <td>28</td>\n",
       "    </tr>\n",
       "    <tr>\n",
       "      <th>8</th>\n",
       "      <td>Tristana</td>\n",
       "      <td>0.656</td>\n",
       "      <td>26</td>\n",
       "    </tr>\n",
       "    <tr>\n",
       "      <th>9</th>\n",
       "      <td>Miss Fortune</td>\n",
       "      <td>0.656</td>\n",
       "      <td>28</td>\n",
       "    </tr>\n",
       "  </tbody>\n",
       "</table>\n",
       "</div>"
      ],
      "text/plain": [
       "           NAME  ATTACK_SPEED  ARMOR\n",
       "0        Draven         0.679     29\n",
       "1        Ezreal         0.625     22\n",
       "2       Caitlyn         0.568     28\n",
       "3         Varus         0.658     27\n",
       "4        Kai'Sa         0.644     28\n",
       "5       Kog'Maw         0.665     24\n",
       "6          Jinx         0.625     28\n",
       "7         Quinn         0.668     28\n",
       "8      Tristana         0.656     26\n",
       "9  Miss Fortune         0.656     28"
      ]
     },
     "execution_count": 3,
     "metadata": {},
     "output_type": "execute_result"
    }
   ],
   "source": [
    "df_1"
   ]
  },
  {
   "cell_type": "code",
   "execution_count": 4,
   "metadata": {},
   "outputs": [],
   "source": [
    "df_2= pd.read_csv('https://raw.githubusercontent.com/Datenworks/developer-code-challenge/master/summoner_challenge/files/dataset_2.csv')"
   ]
  },
  {
   "cell_type": "code",
   "execution_count": 5,
   "metadata": {},
   "outputs": [
    {
     "data": {
      "text/html": [
       "<div>\n",
       "<style scoped>\n",
       "    .dataframe tbody tr th:only-of-type {\n",
       "        vertical-align: middle;\n",
       "    }\n",
       "\n",
       "    .dataframe tbody tr th {\n",
       "        vertical-align: top;\n",
       "    }\n",
       "\n",
       "    .dataframe thead th {\n",
       "        text-align: right;\n",
       "    }\n",
       "</style>\n",
       "<table border=\"1\" class=\"dataframe\">\n",
       "  <thead>\n",
       "    <tr style=\"text-align: right;\">\n",
       "      <th></th>\n",
       "      <th>NAME</th>\n",
       "      <th>ATTACK_DAMAGE</th>\n",
       "      <th>MAGIC_RESIST</th>\n",
       "    </tr>\n",
       "  </thead>\n",
       "  <tbody>\n",
       "    <tr>\n",
       "      <th>0</th>\n",
       "      <td>Draven</td>\n",
       "      <td>60</td>\n",
       "      <td>30</td>\n",
       "    </tr>\n",
       "    <tr>\n",
       "      <th>1</th>\n",
       "      <td>Jinx</td>\n",
       "      <td>57</td>\n",
       "      <td>30</td>\n",
       "    </tr>\n",
       "    <tr>\n",
       "      <th>2</th>\n",
       "      <td>Kalista</td>\n",
       "      <td>67</td>\n",
       "      <td>30</td>\n",
       "    </tr>\n",
       "    <tr>\n",
       "      <th>3</th>\n",
       "      <td>Ashe</td>\n",
       "      <td>61</td>\n",
       "      <td>30</td>\n",
       "    </tr>\n",
       "    <tr>\n",
       "      <th>4</th>\n",
       "      <td>Caitlyn</td>\n",
       "      <td>58</td>\n",
       "      <td>30</td>\n",
       "    </tr>\n",
       "    <tr>\n",
       "      <th>5</th>\n",
       "      <td>Kai'Sa</td>\n",
       "      <td>59</td>\n",
       "      <td>30</td>\n",
       "    </tr>\n",
       "    <tr>\n",
       "      <th>6</th>\n",
       "      <td>Corki</td>\n",
       "      <td>60</td>\n",
       "      <td>30</td>\n",
       "    </tr>\n",
       "    <tr>\n",
       "      <th>7</th>\n",
       "      <td>Tristana</td>\n",
       "      <td>61</td>\n",
       "      <td>30</td>\n",
       "    </tr>\n",
       "    <tr>\n",
       "      <th>8</th>\n",
       "      <td>Twitch</td>\n",
       "      <td>59</td>\n",
       "      <td>30</td>\n",
       "    </tr>\n",
       "  </tbody>\n",
       "</table>\n",
       "</div>"
      ],
      "text/plain": [
       "       NAME  ATTACK_DAMAGE  MAGIC_RESIST\n",
       "0    Draven             60            30\n",
       "1      Jinx             57            30\n",
       "2   Kalista             67            30\n",
       "3      Ashe             61            30\n",
       "4   Caitlyn             58            30\n",
       "5    Kai'Sa             59            30\n",
       "6     Corki             60            30\n",
       "7  Tristana             61            30\n",
       "8    Twitch             59            30"
      ]
     },
     "execution_count": 5,
     "metadata": {},
     "output_type": "execute_result"
    }
   ],
   "source": [
    "df_2"
   ]
  },
  {
   "cell_type": "markdown",
   "metadata": {},
   "source": [
    " Como é possivel observar nos data frames exibidos será nescessario unir os dois arquivos, ao mesmo tempo são observadas duas colunas desnessarias.\n",
    "\n",
    "A partir dos Data Frames foi possível  inferir algumas soluções.\n",
    "\n",
    "- Eliminar colunas desnecessarias: as colunas relacionadas com atributos defensivos serão removidas para melhorar a performance \n",
    "\n",
    "- Como a maior parte dos processos aqui necessitam do nome das colunas (labels) estejam padronizados sera feita verificação\n",
    "\n",
    "- Sera necessario unir os 2 data frames\n",
    "\n",
    "- calcular o DPS\n",
    "\n",
    "- Imprimir ordenado decresente em relação ao DPS "
   ]
  },
  {
   "cell_type": "markdown",
   "metadata": {},
   "source": [
    "## Implementando Classes"
   ]
  },
  {
   "cell_type": "code",
   "execution_count": 6,
   "metadata": {},
   "outputs": [],
   "source": [
    "# Classe com a função de fazer toda e qualquer transformação no DataFrame\n",
    "\n",
    "class Transforma():\n",
    "  \n",
    "    def __init__(self, df):\n",
    "        self.df = df\n",
    "    \n",
    "        \n",
    "    def tudo_maiuscula(self):\n",
    "        a= list(self.df.columns)\n",
    "        \n",
    "        for x in range(len(a)):\n",
    "            a[x] = a[x].upper()\n",
    "    \n",
    "            self.df.columns = a\n",
    "        \n",
    "# Função que remove todas as colunas que não serão usadas para melhorar o desempenho\n",
    "# Recebe do Fiscal as colunas corretas e corta as outras\n",
    "\n",
    "    def remove_colunas_inuteis(self):\n",
    "\n",
    "        fiscal = Fiscal(self.df)\n",
    "\n",
    "        ajudante = fiscal.delvolve_oque_esta_certo()\n",
    "\n",
    "        self.df = self.df.loc[:,ajudante]\n",
    "        \n",
    "# Calcula o DPS e devolve o DF apenas com as colunas NAME e DPS\n",
    "        \n",
    "    def dps(self):\n",
    "        self.df['DPS'] = self.df['ATTACK_DAMAGE']*self.df['ATTACK_SPEED']\n",
    "        self.df = self.df.loc[:,['NAME','DPS']]\n",
    "           "
   ]
  },
  {
   "cell_type": "code",
   "execution_count": 7,
   "metadata": {},
   "outputs": [],
   "source": [
    "# Classe Concerta tem a função de concertar qualquer erro humano, se por algum motivo o nome da coluna entrar com um nome\n",
    "#diferente a aplicação ira quebrar. \n",
    "\n",
    "class Concerta():\n",
    "        \n",
    "# Função que arruma os nomes caso ele esteja em uma lista pré-definida de erros comuns        \n",
    " \n",
    "    def nomes_parecidos(self,valor_colunas, valor_esperado, possiveis_inputs_errados):\n",
    "        \n",
    "        for x in possiveis_inputs_errados:\n",
    "            if x in valor_colunas:\n",
    "                a = valor_colunas.index(x)\n",
    "                valor_colunas[a] = valor_esperado\n",
    "                return valor_colunas\n",
    "        return valor_colunas\n",
    "        "
   ]
  },
  {
   "cell_type": "code",
   "execution_count": 8,
   "metadata": {},
   "outputs": [],
   "source": [
    "# Classe constituição onde estão as leis da aplicação, ela guarda um dicionario onde as chaves são os valores que podemos\n",
    "#encontrar na aplicação ( valores corretos) e seus valores serão usados pela classe concerta para concertar\n",
    "\n",
    "class Constituicao():\n",
    "\n",
    "     def __init__(self):\n",
    "        \n",
    "        name = ['NOME','NOMES', 'NAMES'] \n",
    "        atk_dam = ['ATK_DAMAGE','ATKDAMAGE', 'DAMAGE']\n",
    "        atk_speed = ['ATK_SPEED','ATKSPEED', 'SPEED']\n",
    "        \n",
    "        self._colunas_permitidas = {'NAME':name, 'ATTACK_DAMAGE':atk_dam, 'ATTACK_SPEED':atk_speed}      \n",
    "    \n",
    "        @property\n",
    "        def colunas_permitidas(self):\n",
    "            return self._colunas_permitidas"
   ]
  },
  {
   "cell_type": "code",
   "execution_count": 9,
   "metadata": {},
   "outputs": [],
   "source": [
    "# Responsavel por fiscalizar se o nome das colunas está correto\n",
    "\n",
    "class Fiscal():\n",
    "  \n",
    "    def __init__(self, df):\n",
    "        self.df = df\n",
    "        self.valor_colunas = list(self.df.columns)\n",
    "        \n",
    "        \n",
    "# Devolve apenas os valores da constituição presentes nas colunas, caso não esteja correto (colunas faltantes ou nomes errados)\n",
    "#lança uma execeção \n",
    "        \n",
    "    def delvolve_oque_esta_certo (self):\n",
    "        ajudante = []\n",
    "        leis = Constituicao()\n",
    "\n",
    "        for x in leis._colunas_permitidas:\n",
    "\n",
    "            if self.garante_coluna_correta( x , leis._colunas_permitidas[x]) == True:\n",
    "                ajudante.append(x)\n",
    "                if len(ajudante)==2:\n",
    "                    return ajudante\n",
    "        raise ValueError('Colunas incompativeis, checar seus nomes')\n",
    "        \n",
    "# Garante que um valor esperado está nos nomes das colunas, caso contrario tenta concertar\n",
    "\n",
    "    def garante_coluna_correta(self, valor_esperado: str, possiveis_inputs_errados: list):\n",
    "        \n",
    "        if self.fiscaliza(valor_esperado) == True:\n",
    "            return True\n",
    "        \n",
    "        conserta = Concerta()\n",
    "        coluna_colunas = conserta.nomes_parecidos(self.valor_colunas, valor_esperado, possiveis_inputs_errados) \n",
    "        \n",
    "        if self.fiscaliza(valor_esperado) == True:\n",
    "            self.df.columns = self.valor_colunas\n",
    "            return True\n",
    "\n",
    "        return False\n",
    "\n",
    "    def fiscaliza(self,valor_esperado):\n",
    "\n",
    "        if valor_esperado in self.valor_colunas:\n",
    "            return True\n",
    "        else:\n",
    "            return False"
   ]
  },
  {
   "cell_type": "markdown",
   "metadata": {},
   "source": [
    "## Implementação"
   ]
  },
  {
   "cell_type": "code",
   "execution_count": 10,
   "metadata": {},
   "outputs": [
    {
     "name": "stdout",
     "output_type": "stream",
     "text": [
      "       NAME     DPS\n",
      "0    Draven  40.740\n",
      "4  Tristana  40.016\n",
      "2    Kai'Sa  37.996\n",
      "3      Jinx  35.625\n",
      "1   Caitlyn  32.944\n"
     ]
    }
   ],
   "source": [
    "trans_1 = Transforma(df_1)\n",
    "trans_2 = Transforma(df_2)\n",
    "\n",
    "trans_1.tudo_maiuscula()\n",
    "trans_2.tudo_maiuscula()\n",
    "\n",
    "trans_1.remove_colunas_inuteis()\n",
    "trans_2.remove_colunas_inuteis()\n",
    "\n",
    "\n",
    "\n",
    "# Faz um merge usando a coluna NAME\n",
    "trans_1.df = trans_1.df.merge(trans_2.df, on='NAME')\n",
    "\n",
    "trans_1.dps()\n",
    "\n",
    "# Organiza do mais forte para o mais fraco\n",
    "trans_1.df.sort_values('DPS', ascending = False ,inplace = True )\n",
    "\n",
    "print(trans_1.df)"
   ]
  },
  {
   "cell_type": "markdown",
   "metadata": {},
   "source": [
    "## Testes"
   ]
  },
  {
   "cell_type": "code",
   "execution_count": 11,
   "metadata": {},
   "outputs": [],
   "source": [
    "from unittest import TestCase"
   ]
  },
  {
   "cell_type": "code",
   "execution_count": 12,
   "metadata": {},
   "outputs": [],
   "source": [
    "class TestTransforma(TestCase):\n",
    "\n",
    "    def test_deve_retornar_todas_as_palavras_da_lista_maiusculas(self,df_1):\n",
    "\n",
    "        df_1.columns = ['NAME', 'ATTACK_SPEED', 'Armor']\n",
    "\n",
    "        t = Transforma(df_1)\n",
    "\n",
    "        t.tudo_maiuscula()\n",
    "\n",
    "        valor_esperado = ['NAME', 'ATTACK_SPEED', 'ARMOR']\n",
    "        \n",
    "        import operator\n",
    "        a = all( map(operator.eq, df_1.columns ,  valor_esperado ) )\n",
    "        \n",
    "        self.assertEqual(True, a)\n"
   ]
  },
  {
   "cell_type": "code",
   "execution_count": 13,
   "metadata": {},
   "outputs": [],
   "source": [
    "t = TestTransforma()\n",
    "\n",
    "t.test_deve_retornar_todas_as_palavras_da_lista_maiusculas(df_1)"
   ]
  },
  {
   "cell_type": "code",
   "execution_count": 14,
   "metadata": {},
   "outputs": [],
   "source": [
    "class TestFiscal(TestCase):\n",
    "\n",
    "    def test_funcao_garante_coluna_correta(self,df_1, lista):\n",
    "\n",
    "        df_1.columns = lista\n",
    "        \n",
    "        transforma = Transforma(df_1)\n",
    "        \n",
    "        transforma.tudo_maiuscula()\n",
    "\n",
    "        f = Fiscal(df_1)\n",
    "\n",
    "        f.garante_coluna_correta('NAME',['NAMES','NOMES'])\n",
    "        \n",
    "\n",
    "        valor_esperado = ['NAME', 'ATTACK_SPEED', 'ARMOR']\n",
    "        \n",
    "        import operator\n",
    "        a = all( map(operator.eq, df_1.columns ,  valor_esperado ) )\n",
    "        \n",
    "        self.assertEqual(True, a)\n",
    "        "
   ]
  },
  {
   "cell_type": "code",
   "execution_count": 15,
   "metadata": {},
   "outputs": [],
   "source": [
    "t = TestFiscal()\n",
    "\n",
    "# Testando se ao receber um nome correto ele retorna true ( e testanto a função tudo maiuscula junto)\n",
    "\n",
    "t.test_funcao_garante_coluna_correta(df_1, ['NAMEs', 'ATTACK_SPEED', 'Armor'])"
   ]
  },
  {
   "cell_type": "code",
   "execution_count": 16,
   "metadata": {},
   "outputs": [],
   "source": [
    "# Testando se ao receber um dado errado mas que ela deve conseguir concertar se realmente concerta\n",
    "\n",
    "t.test_funcao_garante_coluna_correta(df_1, ['NOMES', 'ATTACK_SPEED', 'Armor'])"
   ]
  },
  {
   "cell_type": "code",
   "execution_count": 17,
   "metadata": {},
   "outputs": [
    {
     "ename": "AssertionError",
     "evalue": "True != False",
     "output_type": "error",
     "traceback": [
      "\u001b[1;31m---------------------------------------------------------------------------\u001b[0m",
      "\u001b[1;31mAssertionError\u001b[0m                            Traceback (most recent call last)",
      "\u001b[1;32m<ipython-input-17-2d763d12b273>\u001b[0m in \u001b[0;36m<module>\u001b[1;34m\u001b[0m\n\u001b[0;32m      1\u001b[0m \u001b[1;31m# Testando se ao receber um dado errado que não deve conseguir concertar se devolve um erro\u001b[0m\u001b[1;33m\u001b[0m\u001b[1;33m\u001b[0m\u001b[1;33m\u001b[0m\u001b[0m\n\u001b[0;32m      2\u001b[0m \u001b[1;33m\u001b[0m\u001b[0m\n\u001b[1;32m----> 3\u001b[1;33m \u001b[0mt\u001b[0m\u001b[1;33m.\u001b[0m\u001b[0mtest_funcao_garante_coluna_correta\u001b[0m\u001b[1;33m(\u001b[0m\u001b[0mdf_1\u001b[0m\u001b[1;33m,\u001b[0m \u001b[1;33m[\u001b[0m\u001b[1;34m'NOMES'\u001b[0m\u001b[1;33m,\u001b[0m \u001b[1;34m'ATTACK_SPEED'\u001b[0m\u001b[1;33m,\u001b[0m \u001b[1;34m'ArmoOr'\u001b[0m\u001b[1;33m]\u001b[0m\u001b[1;33m)\u001b[0m\u001b[1;33m\u001b[0m\u001b[1;33m\u001b[0m\u001b[0m\n\u001b[0m",
      "\u001b[1;32m<ipython-input-14-ba063bcfe4e1>\u001b[0m in \u001b[0;36mtest_funcao_garante_coluna_correta\u001b[1;34m(self, df_1, lista)\u001b[0m\n\u001b[0;32m     19\u001b[0m         \u001b[0ma\u001b[0m \u001b[1;33m=\u001b[0m \u001b[0mall\u001b[0m\u001b[1;33m(\u001b[0m \u001b[0mmap\u001b[0m\u001b[1;33m(\u001b[0m\u001b[0moperator\u001b[0m\u001b[1;33m.\u001b[0m\u001b[0meq\u001b[0m\u001b[1;33m,\u001b[0m \u001b[0mdf_1\u001b[0m\u001b[1;33m.\u001b[0m\u001b[0mcolumns\u001b[0m \u001b[1;33m,\u001b[0m  \u001b[0mvalor_esperado\u001b[0m \u001b[1;33m)\u001b[0m \u001b[1;33m)\u001b[0m\u001b[1;33m\u001b[0m\u001b[1;33m\u001b[0m\u001b[0m\n\u001b[0;32m     20\u001b[0m \u001b[1;33m\u001b[0m\u001b[0m\n\u001b[1;32m---> 21\u001b[1;33m         \u001b[0mself\u001b[0m\u001b[1;33m.\u001b[0m\u001b[0massertEqual\u001b[0m\u001b[1;33m(\u001b[0m\u001b[1;32mTrue\u001b[0m\u001b[1;33m,\u001b[0m \u001b[0ma\u001b[0m\u001b[1;33m)\u001b[0m\u001b[1;33m\u001b[0m\u001b[1;33m\u001b[0m\u001b[0m\n\u001b[0m\u001b[0;32m     22\u001b[0m \u001b[1;33m\u001b[0m\u001b[0m\n",
      "\u001b[1;32m~\\Anaconda3\\lib\\unittest\\case.py\u001b[0m in \u001b[0;36massertEqual\u001b[1;34m(self, first, second, msg)\u001b[0m\n\u001b[0;32m    837\u001b[0m         \"\"\"\n\u001b[0;32m    838\u001b[0m         \u001b[0massertion_func\u001b[0m \u001b[1;33m=\u001b[0m \u001b[0mself\u001b[0m\u001b[1;33m.\u001b[0m\u001b[0m_getAssertEqualityFunc\u001b[0m\u001b[1;33m(\u001b[0m\u001b[0mfirst\u001b[0m\u001b[1;33m,\u001b[0m \u001b[0msecond\u001b[0m\u001b[1;33m)\u001b[0m\u001b[1;33m\u001b[0m\u001b[1;33m\u001b[0m\u001b[0m\n\u001b[1;32m--> 839\u001b[1;33m         \u001b[0massertion_func\u001b[0m\u001b[1;33m(\u001b[0m\u001b[0mfirst\u001b[0m\u001b[1;33m,\u001b[0m \u001b[0msecond\u001b[0m\u001b[1;33m,\u001b[0m \u001b[0mmsg\u001b[0m\u001b[1;33m=\u001b[0m\u001b[0mmsg\u001b[0m\u001b[1;33m)\u001b[0m\u001b[1;33m\u001b[0m\u001b[1;33m\u001b[0m\u001b[0m\n\u001b[0m\u001b[0;32m    840\u001b[0m \u001b[1;33m\u001b[0m\u001b[0m\n\u001b[0;32m    841\u001b[0m     \u001b[1;32mdef\u001b[0m \u001b[0massertNotEqual\u001b[0m\u001b[1;33m(\u001b[0m\u001b[0mself\u001b[0m\u001b[1;33m,\u001b[0m \u001b[0mfirst\u001b[0m\u001b[1;33m,\u001b[0m \u001b[0msecond\u001b[0m\u001b[1;33m,\u001b[0m \u001b[0mmsg\u001b[0m\u001b[1;33m=\u001b[0m\u001b[1;32mNone\u001b[0m\u001b[1;33m)\u001b[0m\u001b[1;33m:\u001b[0m\u001b[1;33m\u001b[0m\u001b[1;33m\u001b[0m\u001b[0m\n",
      "\u001b[1;32m~\\Anaconda3\\lib\\unittest\\case.py\u001b[0m in \u001b[0;36m_baseAssertEqual\u001b[1;34m(self, first, second, msg)\u001b[0m\n\u001b[0;32m    830\u001b[0m             \u001b[0mstandardMsg\u001b[0m \u001b[1;33m=\u001b[0m \u001b[1;34m'%s != %s'\u001b[0m \u001b[1;33m%\u001b[0m \u001b[0m_common_shorten_repr\u001b[0m\u001b[1;33m(\u001b[0m\u001b[0mfirst\u001b[0m\u001b[1;33m,\u001b[0m \u001b[0msecond\u001b[0m\u001b[1;33m)\u001b[0m\u001b[1;33m\u001b[0m\u001b[1;33m\u001b[0m\u001b[0m\n\u001b[0;32m    831\u001b[0m             \u001b[0mmsg\u001b[0m \u001b[1;33m=\u001b[0m \u001b[0mself\u001b[0m\u001b[1;33m.\u001b[0m\u001b[0m_formatMessage\u001b[0m\u001b[1;33m(\u001b[0m\u001b[0mmsg\u001b[0m\u001b[1;33m,\u001b[0m \u001b[0mstandardMsg\u001b[0m\u001b[1;33m)\u001b[0m\u001b[1;33m\u001b[0m\u001b[1;33m\u001b[0m\u001b[0m\n\u001b[1;32m--> 832\u001b[1;33m             \u001b[1;32mraise\u001b[0m \u001b[0mself\u001b[0m\u001b[1;33m.\u001b[0m\u001b[0mfailureException\u001b[0m\u001b[1;33m(\u001b[0m\u001b[0mmsg\u001b[0m\u001b[1;33m)\u001b[0m\u001b[1;33m\u001b[0m\u001b[1;33m\u001b[0m\u001b[0m\n\u001b[0m\u001b[0;32m    833\u001b[0m \u001b[1;33m\u001b[0m\u001b[0m\n\u001b[0;32m    834\u001b[0m     \u001b[1;32mdef\u001b[0m \u001b[0massertEqual\u001b[0m\u001b[1;33m(\u001b[0m\u001b[0mself\u001b[0m\u001b[1;33m,\u001b[0m \u001b[0mfirst\u001b[0m\u001b[1;33m,\u001b[0m \u001b[0msecond\u001b[0m\u001b[1;33m,\u001b[0m \u001b[0mmsg\u001b[0m\u001b[1;33m=\u001b[0m\u001b[1;32mNone\u001b[0m\u001b[1;33m)\u001b[0m\u001b[1;33m:\u001b[0m\u001b[1;33m\u001b[0m\u001b[1;33m\u001b[0m\u001b[0m\n",
      "\u001b[1;31mAssertionError\u001b[0m: True != False"
     ]
    }
   ],
   "source": [
    "# Testando se ao receber um dado errado que não deve conseguir concertar se devolve um erro\n",
    "\n",
    "t.test_funcao_garante_coluna_correta(df_1, ['NOMES', 'ATTACK_SPEED', 'ArmoOr'])"
   ]
  },
  {
   "cell_type": "code",
   "execution_count": null,
   "metadata": {},
   "outputs": [],
   "source": []
  }
 ],
 "metadata": {
  "kernelspec": {
   "display_name": "Python 3",
   "language": "python",
   "name": "python3"
  },
  "language_info": {
   "codemirror_mode": {
    "name": "ipython",
    "version": 3
   },
   "file_extension": ".py",
   "mimetype": "text/x-python",
   "name": "python",
   "nbconvert_exporter": "python",
   "pygments_lexer": "ipython3",
   "version": "3.7.3"
  }
 },
 "nbformat": 4,
 "nbformat_minor": 2
}
